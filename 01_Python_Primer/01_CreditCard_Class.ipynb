{
 "cells": [
  {
   "cell_type": "markdown",
   "metadata": {},
   "source": [
    "# Python Class - CreditCard\n",
    "\n",
    "A class serves as the primary means for abstraction in object-oriented programming.\n",
    "\n",
    "CreditCard:\n",
    "* Indentifying Information - Customer, Bank, Account Number, Credit Limit and Current Balance\n"
   ]
  },
  {
   "cell_type": "code",
   "execution_count": null,
   "metadata": {},
   "outputs": [],
   "source": []
  },
  {
   "cell_type": "code",
   "execution_count": 15,
   "metadata": {
    "collapsed": true
   },
   "outputs": [],
   "source": [
    "class CreditCard:\n",
    "    \"\"\"A consumer credit card.\"\"\"\n",
    "    \n",
    "    # #Constructor - Initialization Function\n",
    "    def __init__(self, customer, bank, acnt, limit):\n",
    "        \"\"\"Create a new credit card instance.\n",
    "\n",
    "        The initial balance is zero.\n",
    "\n",
    "        customer  the name of the customer (e.g., 'John Bowman')\n",
    "        bank      the name of the bank (e.g., 'California Savings')\n",
    "        acnt      the acount identifier (e.g., '5391 0375 9387 5309')\n",
    "        limit     credit limit (measured in dollars)\n",
    "        \"\"\"\n",
    "        self._customer = customer\n",
    "        self._bank = bank\n",
    "        self._account = acnt\n",
    "        self._limit = limit\n",
    "        self._balance = 0\n",
    "\n",
    "    def get_customer(self):\n",
    "        \"\"\"Return name of the customer.\"\"\"\n",
    "        return self._customer\n",
    "    \n",
    "    def get_bank(self):\n",
    "        \"\"\"Return the bank's name.\"\"\"\n",
    "        return self._bank\n",
    "\n",
    "    def get_account(self):\n",
    "        \"\"\"Return the card identifying number (typically stored as a string).\"\"\"\n",
    "        return self._account\n",
    "\n",
    "    def get_limit(self):\n",
    "        \"\"\"Return current credit limit.\"\"\"\n",
    "        return self._limit\n",
    "\n",
    "    def get_balance(self):\n",
    "        \"\"\"Return current balance.\"\"\"\n",
    "        return self._balance\n",
    "\n",
    "    def charge(self, price):\n",
    "        \"\"\"Charge given price to the card, assuming sufficient credit limit.\n",
    "\n",
    "        Return True if charge was processed; False if charge was denied.\n",
    "        \"\"\"\n",
    "        if price + self._balance > self._limit:  # if charge would exceed limit,\n",
    "          return False                           # cannot accept charge\n",
    "        else:\n",
    "          self._balance += price\n",
    "          return True\n",
    "\n",
    "    def make_payment(self, amount):\n",
    "        \"\"\"Process customer payment that reduces balance.\"\"\"\n",
    "        self._balance -= amount"
   ]
  },
  {
   "cell_type": "code",
   "execution_count": 16,
   "metadata": {
    "collapsed": true
   },
   "outputs": [],
   "source": [
    "wallet = []\n",
    "wallet.append(CreditCard('John Bowman', 'California Savings',\n",
    "                       '5391 0375 9387 5309', 2500) )\n",
    "wallet.append(CreditCard('John Bowman', 'California Federal',\n",
    "                       '3485 0399 3395 1954', 3500) )\n",
    "wallet.append(CreditCard('John Bowman', 'California Finance',\n",
    "                       '5391 0375 9387 5309', 5000) )"
   ]
  },
  {
   "cell_type": "code",
   "execution_count": 17,
   "metadata": {},
   "outputs": [],
   "source": [
    "for val in range(1, 17):\n",
    "    wallet[0].charge(val)\n",
    "    wallet[1].charge(2*val)\n",
    "    wallet[2].charge(3*val)\n"
   ]
  },
  {
   "cell_type": "code",
   "execution_count": 18,
   "metadata": {},
   "outputs": [
    {
     "name": "stdout",
     "output_type": "stream",
     "text": [
      "('Customer =', 'John Bowman')\n",
      "('Bank =', 'California Savings')\n",
      "('Account =', '5391 0375 9387 5309')\n",
      "('Limit =', 2500)\n",
      "('Balance =', 136)\n",
      "('New balance =', 36)\n",
      "\n",
      "\n",
      "('Customer =', 'John Bowman')\n",
      "('Bank =', 'California Federal')\n",
      "('Account =', '3485 0399 3395 1954')\n",
      "('Limit =', 3500)\n",
      "('Balance =', 272)\n",
      "('New balance =', 172)\n",
      "('New balance =', 72)\n",
      "\n",
      "\n",
      "('Customer =', 'John Bowman')\n",
      "('Bank =', 'California Finance')\n",
      "('Account =', '5391 0375 9387 5309')\n",
      "('Limit =', 5000)\n",
      "('Balance =', 408)\n",
      "('New balance =', 308)\n",
      "('New balance =', 208)\n",
      "('New balance =', 108)\n",
      "('New balance =', 8)\n",
      "\n",
      "\n"
     ]
    }
   ],
   "source": [
    "for c in range(3):\n",
    "    print('Customer =', wallet[c].get_customer())\n",
    "    print('Bank =', wallet[c].get_bank())\n",
    "    print('Account =', wallet[c].get_account())\n",
    "    print('Limit =', wallet[c].get_limit())\n",
    "    print('Balance =', wallet[c].get_balance())\n",
    "    while wallet[c].get_balance() > 100:\n",
    "      wallet[c].make_payment(100)\n",
    "      print('New balance =', wallet[c].get_balance())\n",
    "    print \"\\n\""
   ]
  },
  {
   "cell_type": "code",
   "execution_count": null,
   "metadata": {
    "collapsed": true
   },
   "outputs": [],
   "source": []
  }
 ],
 "metadata": {
  "kernelspec": {
   "display_name": "Python 2",
   "language": "python",
   "name": "python2"
  },
  "language_info": {
   "codemirror_mode": {
    "name": "ipython",
    "version": 2
   },
   "file_extension": ".py",
   "mimetype": "text/x-python",
   "name": "python",
   "nbconvert_exporter": "python",
   "pygments_lexer": "ipython2",
   "version": "2.7.10"
  }
 },
 "nbformat": 4,
 "nbformat_minor": 2
}
