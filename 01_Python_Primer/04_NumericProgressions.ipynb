{
 "cells": [
  {
   "cell_type": "markdown",
   "metadata": {},
   "source": [
    "# Python Class - NumericProgressions\n",
    "\n",
    "A Numeric Progression is a sequence of numbers where each number depends on one or more of the previous numbers"
   ]
  },
  {
   "cell_type": "markdown",
   "metadata": {},
   "source": [
    "![](../images/progression_hierarchy.png)"
   ]
  },
  {
   "cell_type": "code",
   "execution_count": null,
   "metadata": {},
   "outputs": [],
   "source": []
  },
  {
   "cell_type": "code",
   "execution_count": 38,
   "metadata": {},
   "outputs": [],
   "source": [
    "# #Root Class inherits from the Object Class in Python 2\n",
    "class Progression(object):\n",
    "    \"\"\"\n",
    "    Iterator producing a generic progression.\n",
    "\n",
    "    Default iterator produces the whole numbers 0, 1, 2, ...\n",
    "    \"\"\"\n",
    "\n",
    "    def __init__(self, start=0):\n",
    "        \"\"\"Initialize current to the first value of the progression.\"\"\"\n",
    "        self._current = start\n",
    "\n",
    "    def _advance(self):\n",
    "        \"\"\"Update self._current to a new value.\n",
    "\n",
    "        This should be overridden by a subclass to customize progression.\n",
    "\n",
    "        By convention, if current is set to None, this designates the\n",
    "        end of a finite progression.\n",
    "        \"\"\"\n",
    "        self._current += 1\n",
    "\n",
    "    def __next__(self):\n",
    "        \"\"\"Return the next element, or else raise StopIteration error.\"\"\"\n",
    "        if self._current is None:    # our convention to end a progression\n",
    "            raise StopIteration()\n",
    "        else:\n",
    "            answer = self._current     # record current value to return\n",
    "            self._advance()            # advance to prepare for next time\n",
    "            return answer              # return the answer\n",
    "\n",
    "    def __iter__(self):\n",
    "        \"\"\"By convention, an iterator must return itself as an iterator.\"\"\"\n",
    "        return self                  \n",
    "\n",
    "    def print_progression(self, n):\n",
    "        \"\"\"Print next n values of the progression.\"\"\"\n",
    "        print(' '.join(str(self.__next__()) for j in range(n)))"
   ]
  },
  {
   "cell_type": "code",
   "execution_count": null,
   "metadata": {},
   "outputs": [],
   "source": []
  },
  {
   "cell_type": "code",
   "execution_count": 39,
   "metadata": {
    "collapsed": true
   },
   "outputs": [],
   "source": [
    "class ArithmeticProgression(Progression):  # inherit from Progression\n",
    "    \"\"\"Iterator producing an arithmetic progression.\"\"\"\n",
    "  \n",
    "    def __init__(self, increment=1, start=0):\n",
    "        \"\"\"Create a new arithmetic progression.\n",
    "\n",
    "        increment  the fixed constant to add to each term (default 1)\n",
    "        start      the first term of the progression (default 0)\n",
    "        \"\"\"\n",
    "#         super().__init__(start)                # initialize base class\n",
    "        super(ArithmeticProgression, self).__init__(start)\n",
    "        self._increment = increment\n",
    "\n",
    "    def _advance(self):                      # override inherited version\n",
    "        \"\"\"Update current value by adding the fixed increment.\"\"\"\n",
    "        self._current += self._increment\n",
    "\n",
    "    "
   ]
  },
  {
   "cell_type": "code",
   "execution_count": 40,
   "metadata": {
    "collapsed": true
   },
   "outputs": [],
   "source": [
    "class GeometricProgression(Progression):   # inherit from Progression\n",
    "    \"\"\"Iterator producing a geometric progression.\"\"\"\n",
    "  \n",
    "    def __init__(self, base=2, start=1):\n",
    "        \"\"\"Create a new geometric progression.\n",
    "\n",
    "        base       the fixed constant multiplied to each term (default 2)\n",
    "        start      the first term of the progression (default 1)\n",
    "        \"\"\"\n",
    "#         super().__init__(start)\n",
    "        super(GeometricProgression, self).__init__(start)\n",
    "        self._base = base\n",
    "\n",
    "    def _advance(self):                      # override inherited version\n",
    "        \"\"\"Update current value by multiplying it by the base value.\"\"\"\n",
    "        self._current *= self._base"
   ]
  },
  {
   "cell_type": "code",
   "execution_count": 41,
   "metadata": {
    "collapsed": true
   },
   "outputs": [],
   "source": [
    "class FibonacciProgression(Progression):\n",
    "    \"\"\"Iterator producing a generalized Fibonacci progression.\"\"\"\n",
    "  \n",
    "    def __init__(self, first=0, second=1):\n",
    "        \"\"\"Create a new fibonacci progression.\n",
    "\n",
    "        first      the first term of the progression (default 0)\n",
    "        second     the second term of the progression (default 1)\n",
    "        \"\"\"\n",
    "#         super().__init__(first)              # start progression at first\n",
    "        super(FibonacciProgression, self).__init__(first)\n",
    "        self._prev = second - first          # fictitious value preceding the first\n",
    "\n",
    "    def _advance(self):\n",
    "        \"\"\"Update current value by taking sum of previous two.\"\"\"\n",
    "        self._prev, self._current = self._current, self._prev + self._current"
   ]
  },
  {
   "cell_type": "code",
   "execution_count": null,
   "metadata": {
    "collapsed": true
   },
   "outputs": [],
   "source": []
  },
  {
   "cell_type": "code",
   "execution_count": 42,
   "metadata": {},
   "outputs": [
    {
     "name": "stdout",
     "output_type": "stream",
     "text": [
      "Default progression:\n",
      "0 1 2 3 4 5 6 7 8 9\n",
      "Arithmetic progression with increment 5:\n",
      "0 5 10 15 20 25 30 35 40 45\n",
      "Arithmetic progression with increment 5 and start 2:\n",
      "2 7 12 17 22 27 32 37 42 47\n",
      "Geometric progression with default base:\n",
      "1 2 4 8 16 32 64 128 256 512\n",
      "Geometric progression with base 3:\n",
      "1 3 9 27 81 243 729 2187 6561 19683\n",
      "Fibonacci progression with default start values:\n",
      "0 1 1 2 3 5 8 13 21 34\n",
      "Fibonacci progression with start values 4 and 6:\n",
      "4 6 10 16 26 42 68 110 178 288\n"
     ]
    }
   ],
   "source": [
    "print('Default progression:')\n",
    "Progression().print_progression(10)\n",
    "\n",
    "print('Arithmetic progression with increment 5:')\n",
    "ArithmeticProgression(5).print_progression(10)\n",
    "\n",
    "print('Arithmetic progression with increment 5 and start 2:')\n",
    "ArithmeticProgression(5, 2).print_progression(10)\n",
    "\n",
    "print('Geometric progression with default base:')\n",
    "GeometricProgression().print_progression(10)\n",
    "\n",
    "print('Geometric progression with base 3:')\n",
    "GeometricProgression(3).print_progression(10)\n",
    "\n",
    "print('Fibonacci progression with default start values:')\n",
    "FibonacciProgression().print_progression(10)\n",
    "\n",
    "print('Fibonacci progression with start values 4 and 6:')\n",
    "FibonacciProgression(4, 6).print_progression(10)\n"
   ]
  },
  {
   "cell_type": "code",
   "execution_count": null,
   "metadata": {
    "collapsed": true
   },
   "outputs": [],
   "source": []
  }
 ],
 "metadata": {
  "kernelspec": {
   "display_name": "Python 2",
   "language": "python",
   "name": "python2"
  },
  "language_info": {
   "codemirror_mode": {
    "name": "ipython",
    "version": 2
   },
   "file_extension": ".py",
   "mimetype": "text/x-python",
   "name": "python",
   "nbconvert_exporter": "python",
   "pygments_lexer": "ipython2",
   "version": "2.7.10"
  }
 },
 "nbformat": 4,
 "nbformat_minor": 2
}
